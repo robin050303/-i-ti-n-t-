{
 "cells": [
  {
   "cell_type": "code",
   "execution_count": 4,
   "id": "540f8221",
   "metadata": {},
   "outputs": [
    {
     "name": "stdout",
     "output_type": "stream",
     "text": [
      "Nhập số tiền: 12\n",
      "Số tiền là 273180 VND\n"
     ]
    }
   ],
   "source": [
    "a = int(input(\"Nhập số tiền: \"))\n",
    "\n",
    "x = a*22765\n",
    "print(f\"Số tiền là {x} VND\")"
   ]
  }
 ],
 "metadata": {
  "kernelspec": {
   "display_name": "Python 3 (ipykernel)",
   "language": "python",
   "name": "python3"
  },
  "language_info": {
   "codemirror_mode": {
    "name": "ipython",
    "version": 3
   },
   "file_extension": ".py",
   "mimetype": "text/x-python",
   "name": "python",
   "nbconvert_exporter": "python",
   "pygments_lexer": "ipython3",
   "version": "3.9.5"
  }
 },
 "nbformat": 4,
 "nbformat_minor": 5
}
